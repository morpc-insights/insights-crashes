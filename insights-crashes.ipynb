{
 "cells": [
  {
   "cell_type": "markdown",
   "id": "5c699616-fd0b-4345-b204-a7eaee51fd95",
   "metadata": {},
   "source": [
    "# MORPC Insights - Crash Injuries and Fatalities"
   ]
  },
  {
   "cell_type": "markdown",
   "id": "f266558b-c357-429c-b3ec-074e23751904",
   "metadata": {},
   "source": [
    "## Overview"
   ]
  },
  {
   "cell_type": "markdown",
   "id": "caffba84-d13c-412f-8992-c686048f1a68",
   "metadata": {},
   "source": [
    "The Ohio Department of Transportation maintains a database of vehicle crash indidents, including the injuries and fatalities that sometimes result from them.  Each year, typically in the spring, MORPC receives an extract of this data that ODOT has cleaned.  This notebook produces a summary of injuries and fatalities based on the cleaned data.\n",
    "  \n",
    "This notebook produces a tileset that includes a summary of injuries and fatalities for 13 of the counties in the MORPC 15-county region and a selection of counties outside of this region.  The included counties in the MORPC region are Delaware*, Fairfield*, Franklin*, Knox*, Licking*, Madison*, Marion*, Morrow*, Perry, Pickaway*, Ross, Union*.  A summary is also produced for the MORPC 10-County Region, which includes the counties denoted with asterisks."
   ]
  },
  {
   "cell_type": "markdown",
   "id": "12f498db-624a-4612-98bc-4fb293545126",
   "metadata": {},
   "source": [
    "## Setup"
   ]
  },
  {
   "cell_type": "markdown",
   "id": "e78b2de3-e2a7-4a7f-8ac4-15b7ec9e1878",
   "metadata": {},
   "source": [
    "### Load required libraries"
   ]
  },
  {
   "cell_type": "code",
   "execution_count": null,
   "id": "218f7cbb-4c18-4bb6-b5c9-67b13bbf20cb",
   "metadata": {},
   "outputs": [],
   "source": [
    "import pandas as pd\n",
    "import frictionless\n",
    "import requests\n",
    "import os\n",
    "import sys\n",
    "import json\n",
    "import datetime\n",
    "import textwrap\n",
    "import matplotlib\n",
    "from matplotlib import pyplot as plt\n",
    "sys.path.append(os.path.normpath(\"../morpc-common\"))\n",
    "import morpc"
   ]
  },
  {
   "cell_type": "markdown",
   "id": "7dafa778-fe68-4ff2-845a-071e1953d178",
   "metadata": {},
   "source": [
    "### User-specified parameters"
   ]
  },
  {
   "cell_type": "code",
   "execution_count": null,
   "id": "cda8a1e3-db9a-4d81-a3d4-146e8f66018c",
   "metadata": {},
   "outputs": [],
   "source": [
    "# Year range is the range of years that will be included in output tables that are indexed by year\n",
    "YEAR_RANGE = [2019, 2023]\n",
    "\n",
    "# Summary range is the range of years that will be included when computing summaries\n",
    "SUMMARY_RANGE = [2019, 2023]"
   ]
  },
  {
   "cell_type": "markdown",
   "id": "2d807186-9539-4286-b975-68d7afa999aa",
   "metadata": {},
   "source": [
    "### Static parameters"
   ]
  },
  {
   "cell_type": "code",
   "execution_count": null,
   "id": "d1086446-56ed-404c-98b6-4f63f1a76ef8",
   "metadata": {},
   "outputs": [],
   "source": [
    "INPUT_DIR = os.path.normpath(\"./input_data\")\n",
    "\n",
    "OUTPUT_DIR = os.path.normpath(\"./output_data\")\n",
    "\n",
    "CHART_DIRNAME = \"charts\"\n",
    "\n",
    "SELECTED_GEOS = ['Delaware', 'Fairfield', 'Franklin', 'Knox', 'Licking', \n",
    "                 'Madison', 'Marion', 'Morrow', 'Pickaway', 'Union', 'Region10']\n",
    "\n",
    "# Dictionary mapping county codes to county names\n",
    "COUNTY_CODE_MAP = {\n",
    "    'CRA': 'Crawford',\n",
    "    'DEL': 'Delaware',\n",
    "    'FAI': 'Fairfield',\n",
    "    'FRA': 'Franklin',\n",
    "    'HAN': 'Hancock',\n",
    "    'HAR': 'Hardin',\n",
    "    'KNO': 'Knox',\n",
    "    'LIC': 'Licking',\n",
    "    'LOG': 'Logan',\n",
    "    'MAD': 'Madison',\n",
    "    'MAR': 'Marion',\n",
    "    'MOT': 'Montgomery',\n",
    "    'MRW': 'Morrow',\n",
    "    'PER': 'Perry',\n",
    "    'POR': 'Portage',\n",
    "    'PIC': 'Pickaway',\n",
    "    'RIC': 'Richland',\n",
    "    'ROS': 'Ross',\n",
    "    'SUM': 'Summit',\n",
    "    'UNI': 'Union',\n",
    "    'WYA': 'Wyandot'\n",
    "}\n",
    "\n",
    "OUTCOME_DESCRIPTION_MAP = {\n",
    "    'INCAPAC_INJURIES_NBR':\"Incapacitating injuries\",\n",
    "    'NON_INCAPAC_INJURIES_NBR':\"Non-incapacitating injuries\",\n",
    "    'NO_INJURY_REPORTED_NBR':\"No injuries\",\n",
    "    'ODPS_TOTAL_FATALITIES_NBR':\"Fatality\",\n",
    "    'POSSIBLE_INJURIES_NBR':\"Possible injuries\"\n",
    "}"
   ]
  },
  {
   "cell_type": "markdown",
   "id": "3e0f86cf-e578-43c5-809a-10502263c5c4",
   "metadata": {},
   "source": [
    "### Define inputs"
   ]
  },
  {
   "cell_type": "markdown",
   "id": "7778c336-3e52-4beb-848a-66eaa6eb221d",
   "metadata": {},
   "source": [
    "#### Create input data directory"
   ]
  },
  {
   "cell_type": "markdown",
   "id": "d6036e8e-8c0c-41bf-8f2a-4bd63ec21059",
   "metadata": {},
   "source": [
    "Create input data directory if it doesn't exist."
   ]
  },
  {
   "cell_type": "code",
   "execution_count": null,
   "id": "50e4f010-ae38-416f-80a5-c5c0cf3e444e",
   "metadata": {},
   "outputs": [],
   "source": [
    "inputDir = os.path.normpath(INPUT_DIR)\n",
    "if not os.path.exists(inputDir):\n",
    "    os.makedirs(inputDir)"
   ]
  },
  {
   "cell_type": "markdown",
   "id": "88bb506d-be1a-4cee-9274-28fe61c80c01",
   "metadata": {},
   "source": [
    "#### Cleaned crash incident records"
   ]
  },
  {
   "cell_type": "markdown",
   "id": "b9b153f4-485c-4c93-beb4-c035e5c908c6",
   "metadata": {},
   "source": [
    "As of March 2025, the crash data is relatively large (>70MB) and therefore is not well suited for storage in GitHub.  For lack of a better repository it is stored in ArcGIS Online.  A resource file and schema are captured in GitHub to allow for validation."
   ]
  },
  {
   "cell_type": "code",
   "execution_count": null,
   "id": "1efa3418-9128-4752-8cf6-0c9021004ff5",
   "metadata": {},
   "outputs": [],
   "source": [
    "CRASH_INPUT_URL = \"https://www.arcgis.com/sharing/rest/content/items/97a9bde6b3b24358b52ca86964714f76/data\"\n",
    "CRASH_INPUT_TABLE_FILENAME = \"MORPC_Crashes_2019-2023_GIS.csv\"\n",
    "CRASH_INPUT_TABLE_PATH = os.path.join(inputDir, CRASH_INPUT_TABLE_FILENAME)\n",
    "CRASH_INPUT_RESOURCE_PATH = CRASH_INPUT_TABLE_PATH.replace(\".csv\",\".resource.yaml\")\n",
    "CRASH_INPUT_SCHEMA_PATH = CRASH_INPUT_TABLE_PATH.replace(\".csv\",\".schema.yaml\")"
   ]
  },
  {
   "cell_type": "markdown",
   "id": "ae74c606-606d-406e-bef1-ec740db1c0ed",
   "metadata": {
    "tags": []
   },
   "source": [
    "### Define outputs"
   ]
  },
  {
   "cell_type": "markdown",
   "id": "e99f094c-d946-4f72-8184-f5cea1cd18ea",
   "metadata": {
    "tags": []
   },
   "source": [
    "#### Create output data directory"
   ]
  },
  {
   "cell_type": "markdown",
   "id": "1ede1075-913c-4ec7-9f81-2b593d8dbea7",
   "metadata": {},
   "source": [
    "Create output data directory if it doesn't exist."
   ]
  },
  {
   "cell_type": "code",
   "execution_count": null,
   "id": "6eb8522f-e434-4530-9f5f-4f3a9cf0ff5e",
   "metadata": {},
   "outputs": [],
   "source": [
    "outputDir = os.path.normpath(OUTPUT_DIR)\n",
    "if not os.path.exists(outputDir):\n",
    "    os.makedirs(outputDir)   "
   ]
  },
  {
   "cell_type": "code",
   "execution_count": null,
   "id": "ed0fd019-9624-47a0-8cf0-9f494057663c",
   "metadata": {},
   "outputs": [],
   "source": [
    "chartDir = os.path.join(outputDir, CHART_DIRNAME)\n",
    "if not os.path.exists(chartDir):\n",
    "    os.makedirs(chartDir)    "
   ]
  },
  {
   "cell_type": "markdown",
   "id": "86f4d5b0-ce55-4cfe-9cde-d265d3ed9319",
   "metadata": {
    "tags": []
   },
   "source": [
    "#### Crashes by geo by year (all variables)"
   ]
  },
  {
   "cell_type": "code",
   "execution_count": null,
   "id": "d0746090-6e45-40e4-a248-81b52879e4f1",
   "metadata": {},
   "outputs": [],
   "source": [
    "OUTPUT_LONG_TABLE_FILENAME = \"crashes-long.csv\"\n",
    "OUTPUT_LONG_TABLE_PATH = os.path.join(outputDir, OUTPUT_LONG_TABLE_FILENAME)\n",
    "OUTPUT_LONG_SCHEMA_PATH = OUTPUT_LONG_TABLE_PATH.replace(\".csv\",\".schema.yaml\")\n",
    "OUTPUT_LONG_RESOURCE_PATH = OUTPUT_LONG_TABLE_PATH.replace(\".csv\",\".resource.yaml\")\n",
    "print(\"Data: {}\".format(OUTPUT_LONG_TABLE_PATH))\n",
    "print(\"Schema: {}\".format(OUTPUT_LONG_SCHEMA_PATH))\n",
    "print(\"Resource file: {}\".format(OUTPUT_LONG_RESOURCE_PATH))"
   ]
  },
  {
   "cell_type": "markdown",
   "id": "3c4d6fa6-e7f7-4dfc-a404-bfb0101a137e",
   "metadata": {},
   "source": [
    "#### Crash severity by geo by type"
   ]
  },
  {
   "cell_type": "code",
   "execution_count": null,
   "id": "d1143583-3582-4f70-af91-12e6cd2cc05c",
   "metadata": {},
   "outputs": [],
   "source": [
    "OUTPUT_CRASH_SEVERITY_BY_TYPE_FILENAME = \"crashSeverityByType.csv\"\n",
    "OUTPUT_CRASH_SEVERITY_BY_TYPE_PATH = os.path.join(outputDir, OUTPUT_CRASH_SEVERITY_BY_TYPE_FILENAME)\n",
    "OUTPUT_CRASH_SEVERITY_BY_TYPE_SCHEMA = OUTPUT_CRASH_SEVERITY_BY_TYPE_PATH.replace(\".csv\",\".schema.yaml\")\n",
    "OUTPUT_CRASH_SEVERITY_BY_TYPE_RESOURCE = OUTPUT_CRASH_SEVERITY_BY_TYPE_PATH.replace(\".csv\",\".resource.yaml\")\n",
    "print(\"Data: {}\".format(OUTPUT_CRASH_SEVERITY_BY_TYPE_PATH))\n",
    "print(\"Schema: {}\".format(OUTPUT_CRASH_SEVERITY_BY_TYPE_SCHEMA))\n",
    "print(\"Resource: {}\".format(OUTPUT_CRASH_SEVERITY_BY_TYPE_RESOURCE))      "
   ]
  },
  {
   "cell_type": "markdown",
   "id": "123ed381-f36c-4e7c-ba0c-24228ece5ea7",
   "metadata": {},
   "source": [
    "#### Crash severity by geo by year"
   ]
  },
  {
   "cell_type": "code",
   "execution_count": null,
   "id": "654d9ab5-28d3-45bc-82f1-d46fc9a2a1af",
   "metadata": {},
   "outputs": [],
   "source": [
    "OUTPUT_CRASH_SEVERITY_BY_YEAR_FILENAME = \"crashSeverityByYear.csv\"\n",
    "OUTPUT_CRASH_SEVERITY_BY_YEAR_PATH = os.path.join(outputDir, OUTPUT_CRASH_SEVERITY_BY_YEAR_FILENAME)\n",
    "OUTPUT_CRASH_SEVERITY_BY_YEAR_SCHEMA = OUTPUT_CRASH_SEVERITY_BY_YEAR_PATH.replace(\".csv\",\".schema.yaml\")\n",
    "OUTPUT_CRASH_SEVERITY_BY_YEAR_RESOURCE = OUTPUT_CRASH_SEVERITY_BY_YEAR_PATH.replace(\".csv\",\".resource.yaml\")\n",
    "print(\"Data: {}\".format(OUTPUT_CRASH_SEVERITY_BY_YEAR_PATH))\n",
    "print(\"Schema: {}\".format(OUTPUT_CRASH_SEVERITY_BY_YEAR_SCHEMA))\n",
    "print(\"Resource: {}\".format(OUTPUT_CRASH_SEVERITY_BY_YEAR_RESOURCE))      "
   ]
  },
  {
   "cell_type": "markdown",
   "id": "9d092dda-bc03-41d9-b672-13f720cb50a6",
   "metadata": {},
   "source": [
    "#### Crash severity by geo by mode"
   ]
  },
  {
   "cell_type": "code",
   "execution_count": null,
   "id": "0ba9a7ae-504b-48f2-b120-e925978ab2bf",
   "metadata": {},
   "outputs": [],
   "source": [
    "OUTPUT_CRASH_SEVERITY_BY_MODE_FILENAME = \"crashSeverityByMode.csv\"\n",
    "OUTPUT_CRASH_SEVERITY_BY_MODE_PATH = os.path.join(outputDir, OUTPUT_CRASH_SEVERITY_BY_MODE_FILENAME)\n",
    "OUTPUT_CRASH_SEVERITY_BY_MODE_SCHEMA = OUTPUT_CRASH_SEVERITY_BY_MODE_PATH.replace(\".csv\",\".schema.yaml\")\n",
    "OUTPUT_CRASH_SEVERITY_BY_MODE_RESOURCE = OUTPUT_CRASH_SEVERITY_BY_MODE_PATH.replace(\".csv\",\".resource.yaml\")\n",
    "print(\"Data: {}\".format(OUTPUT_CRASH_SEVERITY_BY_MODE_PATH))\n",
    "print(\"Schema: {}\".format(OUTPUT_CRASH_SEVERITY_BY_MODE_SCHEMA))\n",
    "print(\"Resource: {}\".format(OUTPUT_CRASH_SEVERITY_BY_MODE_RESOURCE))      "
   ]
  },
  {
   "cell_type": "markdown",
   "id": "acfb611a-e884-49ee-8431-adac7534438d",
   "metadata": {},
   "source": [
    "## Prepare input data"
   ]
  },
  {
   "cell_type": "markdown",
   "id": "1fdab135-8283-49f2-b8b3-94f6b7c3b43c",
   "metadata": {
    "tags": []
   },
   "source": [
    "### Load cleaned crash incident records"
   ]
  },
  {
   "cell_type": "markdown",
   "id": "a087e7eb-155e-4eff-87d2-d4d6736b0947",
   "metadata": {},
   "source": [
    "Load incident records from ArcGIS online and save a local copy.  If a local copy exists, use that instead."
   ]
  },
  {
   "cell_type": "code",
   "execution_count": null,
   "id": "ea885f81-d011-4dd9-9bfa-c5b934387e29",
   "metadata": {},
   "outputs": [],
   "source": [
    "if(os.path.exists(CRASH_INPUT_TABLE_PATH)):\n",
    "    print(\"Using existing local copy of crash incident data found at {}\".format(CRASH_INPUT_TABLE_PATH))\n",
    "    crashesRaw = pd.read_csv(CRASH_INPUT_TABLE_PATH)\n",
    "else:\n",
    "    print(\"Downloading crash incident data from ArcGIS Online and saving a copy at {}\".format(CRASH_INPUT_TABLE_PATH))\n",
    "    crashesRaw = pd.read_csv(CRASH_INPUT_URL)\n",
    "    crashesRaw.to_csv(CRASH_INPUT_TABLE_PATH, index=False)"
   ]
  },
  {
   "cell_type": "markdown",
   "id": "01524c91-1da8-435e-8bc3-c8bb23a1531f",
   "metadata": {},
   "source": [
    "Validate the crash incident dataset."
   ]
  },
  {
   "cell_type": "code",
   "execution_count": null,
   "id": "2d947ec7-5338-47ef-8a66-418db1472a88",
   "metadata": {},
   "outputs": [],
   "source": [
    "valid = morpc.frictionless_validate_resource(CRASH_INPUT_RESOURCE_PATH)\n",
    "if(not valid):\n",
    "    print(\"Validation of crash incident data failed.  Inspect the data and ensure it matches the resource file and schema, then try again.\")\n",
    "    raise RuntimeError"
   ]
  },
  {
   "cell_type": "markdown",
   "id": "d622fe5b-afa6-4747-a2b6-8814fd8a0402",
   "metadata": {},
   "source": [
    "Inspect the data."
   ]
  },
  {
   "cell_type": "code",
   "execution_count": null,
   "id": "c308f782-ac11-4073-97bc-6b3b02706754",
   "metadata": {},
   "outputs": [],
   "source": [
    "crashesRaw.head()"
   ]
  },
  {
   "cell_type": "code",
   "execution_count": null,
   "id": "2c1b7e43-044f-49cb-8daa-c82c1f16c0f1",
   "metadata": {},
   "outputs": [],
   "source": [
    "crashesRaw[\"SEVERITY_BY_TYPE_CD\"].value_counts()"
   ]
  },
  {
   "cell_type": "code",
   "execution_count": null,
   "id": "1ecbdfc8-1411-43e6-8895-48e80d74d620",
   "metadata": {},
   "outputs": [],
   "source": [
    "crashesRaw[\"CRASH_TYPE_CD\"].value_counts()"
   ]
  },
  {
   "cell_type": "code",
   "execution_count": null,
   "id": "85f94f04-aee9-471c-a4e6-6ea0142399aa",
   "metadata": {},
   "outputs": [],
   "source": [
    "crashesRaw[['ODPS_TOTAL_FATALITIES_NBR','INCAPAC_INJURIES_NBR','NON_INCAPAC_INJURIES_NBR','POSSIBLE_INJURIES_NBR','NO_INJURY_REPORTED_NBR']].describe()"
   ]
  },
  {
   "cell_type": "markdown",
   "id": "0c7bced1-052e-402d-85f4-609304af24d2",
   "metadata": {},
   "source": [
    "## Transform data to format required by Insights platform"
   ]
  },
  {
   "cell_type": "markdown",
   "id": "179551b1-feda-4882-b036-9ca0f8e3ccf3",
   "metadata": {},
   "source": [
    "### Simplify crash data"
   ]
  },
  {
   "cell_type": "markdown",
   "id": "0f0aabb3-8170-4018-958e-61f451647c45",
   "metadata": {},
   "source": [
    "Create a working copy."
   ]
  },
  {
   "cell_type": "code",
   "execution_count": null,
   "id": "55c36351-673f-4091-a5ba-7dfe3b62c9d9",
   "metadata": {},
   "outputs": [],
   "source": [
    "crashes = crashesRaw.copy()"
   ]
  },
  {
   "cell_type": "markdown",
   "id": "0a6129e4-6d67-4dd3-935f-ee28c6a213e0",
   "metadata": {},
   "source": [
    "Convert three-letter county codes to county names."
   ]
  },
  {
   "cell_type": "code",
   "execution_count": null,
   "id": "2a298816-0280-47d4-a9cd-d2ff9fe30bae",
   "metadata": {},
   "outputs": [],
   "source": [
    "crashes['GEONAME'] = crashes['NLF_COUNTY_CD'].map(COUNTY_CODE_MAP)"
   ]
  },
  {
   "cell_type": "markdown",
   "id": "8a8689ba-d3c3-42e8-960f-a328f1cdeced",
   "metadata": {},
   "source": [
    "Rename year column to make it match other columns."
   ]
  },
  {
   "cell_type": "code",
   "execution_count": null,
   "id": "77663be1-53d4-4566-8f8f-0d66cc84f1e0",
   "metadata": {},
   "outputs": [],
   "source": [
    "crashes = crashes.rename(columns={\"Year\":\"YEAR\"})"
   ]
  },
  {
   "cell_type": "markdown",
   "id": "d749a672-8dc6-4149-baf2-7031b731b274",
   "metadata": {},
   "source": [
    "Extract only the records from the selected counties."
   ]
  },
  {
   "cell_type": "code",
   "execution_count": null,
   "id": "0a30550e-bfee-4be2-9211-e5171ce154d9",
   "metadata": {},
   "outputs": [],
   "source": [
    "crashes = crashes.loc[crashes[\"GEONAME\"].isin(SELECTED_GEOS)].copy()"
   ]
  },
  {
   "cell_type": "markdown",
   "id": "367fca7f-7b8b-499a-a4f2-b0c317519099",
   "metadata": {},
   "source": [
    "Remove the numeric prefix from the crash severity categories."
   ]
  },
  {
   "cell_type": "code",
   "execution_count": null,
   "id": "c081a1ce-028d-43eb-8ab1-c579f03cbb64",
   "metadata": {},
   "outputs": [],
   "source": [
    "crashes[\"SEVERITY_BY_TYPE_CD\"] = crashes[\"SEVERITY_BY_TYPE_CD\"].apply(lambda x:x.split(\" \", maxsplit=1)[1])"
   ]
  },
  {
   "cell_type": "markdown",
   "id": "d3fa96fe-0022-49a5-9a7e-890d5363541f",
   "metadata": {},
   "source": [
    "Extract only the columns that we need."
   ]
  },
  {
   "cell_type": "code",
   "execution_count": null,
   "id": "6990f634-7ed4-42dc-9117-ad09ee5671ad",
   "metadata": {},
   "outputs": [],
   "source": [
    "crashes = crashes.filter(items=['GEONAME','YEAR','SEVERITY_BY_TYPE_CD','CRASH_TYPE_CD'], axis=\"columns\")"
   ]
  },
  {
   "cell_type": "markdown",
   "id": "441ebe2f-92c4-469f-92a8-db7153a27e50",
   "metadata": {},
   "source": [
    "Summarize the crashes by county, year, crash type, and severity."
   ]
  },
  {
   "cell_type": "code",
   "execution_count": null,
   "id": "c4210ab2-2d62-4dec-96a8-3e50d052f13a",
   "metadata": {},
   "outputs": [],
   "source": [
    "crashes['CRASHES'] = 1\n",
    "crashes = crashes \\\n",
    "    .groupby(['GEONAME','YEAR','CRASH_TYPE_CD','SEVERITY_BY_TYPE_CD']).sum() \\\n",
    "    .sort_values(['GEONAME','YEAR','CRASH_TYPE_CD','SEVERITY_BY_TYPE_CD']) \\\n",
    "    .reset_index()"
   ]
  },
  {
   "cell_type": "markdown",
   "id": "dfb56f8b-e693-46cf-aae7-8a4090dafc5c",
   "metadata": {},
   "source": [
    "Summarize the crashes for the 10-county region."
   ]
  },
  {
   "cell_type": "code",
   "execution_count": null,
   "id": "2c716945-4d83-4389-b5ee-716a44f7d470",
   "metadata": {},
   "outputs": [],
   "source": [
    "temp = crashes.copy() \\\n",
    "    .drop(columns=\"GEONAME\") \\\n",
    "    .groupby(['YEAR','CRASH_TYPE_CD','SEVERITY_BY_TYPE_CD']).sum() \\\n",
    "    .reset_index()\n",
    "temp[\"GEONAME\"] = \"Region10\"\n",
    "crashes = pd.concat([crashes, temp], axis=\"index\")"
   ]
  },
  {
   "cell_type": "markdown",
   "id": "dca04f20-9c71-42bf-9fee-938da060f0a8",
   "metadata": {},
   "source": [
    "Inspect the data."
   ]
  },
  {
   "cell_type": "code",
   "execution_count": null,
   "id": "566e4bb9-fe21-4b56-a919-09331a9bfea8",
   "metadata": {},
   "outputs": [],
   "source": [
    "crashes"
   ]
  },
  {
   "cell_type": "code",
   "execution_count": null,
   "id": "634c665a-b4b8-48f9-809f-784ddceae22a",
   "metadata": {},
   "outputs": [],
   "source": [
    "crashes[[\"GEONAME\",\"YEAR\",\"CRASHES\"]].groupby([\"GEONAME\",\"YEAR\"]).sum().reset_index().pivot(index=\"GEONAME\",columns=\"YEAR\",values=\"CRASHES\")"
   ]
  },
  {
   "cell_type": "markdown",
   "id": "19d5b649-0a7a-42a8-acec-a3f513a91e43",
   "metadata": {},
   "source": [
    "### Summarize crash severity by geography by year"
   ]
  },
  {
   "cell_type": "code",
   "execution_count": null,
   "id": "2f80cc22-2f91-4417-920c-1e3260c9fec3",
   "metadata": {},
   "outputs": [],
   "source": [
    "crashSeverityByGeoByYear = crashes \\\n",
    "    .drop(columns=[\"CRASH_TYPE_CD\"]) \\\n",
    "    .groupby([\"GEONAME\",\"YEAR\",\"SEVERITY_BY_TYPE_CD\"]).sum().reset_index() \\\n",
    "    .pivot(index=[\"GEONAME\",\"YEAR\"], columns=[\"SEVERITY_BY_TYPE_CD\"], values=\"CRASHES\") \\\n",
    "    .rename(columns={\n",
    "        \"Fatal\":\"GEO_YEAR_FATAL\",\n",
    "        \"Injury Possible\":\"GEO_YEAR_POSSIBLE\",\n",
    "        \"Minor Injury Suspected\":\"GEO_YEAR_MINOR\",\n",
    "        \"PDO/No Injury\":\"GEO_YEAR_NOINJ\",\n",
    "        \"Serious Injury Suspected\":\"GEO_YEAR_SERIOUS\"\n",
    "    }) \\\n",
    "    .filter(items=[\"GEO_YEAR_FATAL\", \"GEO_YEAR_SERIOUS\", \"GEO_YEAR_MINOR\", \"GEO_YEAR_POSSIBLE\", \"GEO_YEAR_NOINJ\"], axis=\"columns\") \\\n",
    "\n",
    "crashSeverityByGeoByYear[\"GEO_YEAR_TOTAL\"] = crashSeverityByGeoByYear.sum(axis=\"columns\")\n",
    "\n",
    "crashSeverityByGeoByYear.columns.name = None\n",
    "crashSeverityByGeoByYear.head()"
   ]
  },
  {
   "cell_type": "code",
   "execution_count": null,
   "id": "f7b79a36-85c5-4929-a029-4a09a5880991",
   "metadata": {},
   "outputs": [],
   "source": [
    "crashSeverityByGeoByYear.reset_index()[[\"GEONAME\",\"YEAR\",\"GEO_YEAR_FATAL\"]].pivot(index=\"GEONAME\",columns=\"YEAR\",values=\"GEO_YEAR_FATAL\")"
   ]
  },
  {
   "cell_type": "code",
   "execution_count": null,
   "id": "04327b79-877a-4b85-8632-f7386012fc79",
   "metadata": {},
   "outputs": [],
   "source": [
    "crashSeverityByGeoByYear.reset_index()[[\"GEONAME\",\"YEAR\",\"GEO_YEAR_SERIOUS\"]].pivot(index=\"GEONAME\",columns=\"YEAR\",values=\"GEO_YEAR_SERIOUS\")"
   ]
  },
  {
   "cell_type": "markdown",
   "id": "c92a3414-0688-45f3-ad50-d83f5d49befa",
   "metadata": {},
   "source": [
    "### Summarize crash severity by geography for all years"
   ]
  },
  {
   "cell_type": "code",
   "execution_count": null,
   "id": "c886bbeb-c52e-4e70-91ac-6a508dd4e964",
   "metadata": {},
   "outputs": [],
   "source": [
    "crashSeverityByGeo = crashSeverityByGeoByYear.copy() \\\n",
    "    .reset_index() \\\n",
    "    .drop(columns=\"YEAR\") \\\n",
    "    .groupby(\"GEONAME\").sum() \\\n",
    "    .rename(columns=(lambda column:column.replace(\"GEO_YEAR\",\"GEO\")))\n",
    "crashSeverityByGeo"
   ]
  },
  {
   "cell_type": "markdown",
   "id": "7850fb9f-07fb-4387-9b0b-7ea41200121c",
   "metadata": {},
   "source": [
    "### Create table of crash severity by crash type"
   ]
  },
  {
   "cell_type": "code",
   "execution_count": null,
   "id": "53990741-2d5c-4e24-9d6c-fb7a5cb7421d",
   "metadata": {},
   "outputs": [],
   "source": [
    "crashSeverityByCrashType = crashes.loc[crashes[\"YEAR\"].isin(range(SUMMARY_RANGE[0], SUMMARY_RANGE[1]+1))].copy() \\\n",
    "    .drop(columns=\"YEAR\") \\\n",
    "    .groupby([\"GEONAME\",\"CRASH_TYPE_CD\",\"SEVERITY_BY_TYPE_CD\"]).sum() \\\n",
    "    .reset_index()\n",
    "\n",
    "crashSeverityByCrashType = crashSeverityByCrashType.pivot(index=[\"GEONAME\",\"CRASH_TYPE_CD\"], columns=\"SEVERITY_BY_TYPE_CD\", values=\"CRASHES\") \\\n",
    "    .fillna(0) \\\n",
    "    .astype(\"int\")\n",
    "\n",
    "crashSeverityByCrashType.columns.name = None\n",
    "\n",
    "crashSeverityByCrashType = crashSeverityByCrashType.rename(columns={\n",
    "        \"Fatal\":\"GEO_CRASHTYPE_FATAL\",\n",
    "        \"Injury Possible\":\"GEO_CRASHTYPE_POSSIBLE\",\n",
    "        \"Minor Injury Suspected\":\"GEO_CRASHTYPE_MINOR\",\n",
    "        \"PDO/No Injury\":\"GEO_CRASHTYPE_NOINJ\",\n",
    "        \"Serious Injury Suspected\":\"GEO_CRASHTYPE_SERIOUS\"\n",
    "    }) \\\n",
    "    .filter(items=[\"GEO_CRASHTYPE_FATAL\", \"GEO_CRASHTYPE_SERIOUS\", \"GEO_CRASHTYPE_MINOR\", \"GEO_CRASHTYPE_POSSIBLE\", \"GEO_CRASHTYPE_NOINJ\"], axis=\"columns\") \\\n",
    "\n",
    "crashSeverityByCrashType[\"GEO_CRASHTYPE_TOTAL\"] = crashSeverityByCrashType.sum(axis=\"columns\")\n",
    "\n",
    "crashSeverityByCrashType = crashSeverityByCrashType.reset_index()                                                          \n",
    "\n",
    "crashSeverityByCrashType = crashSeverityByCrashType \\\n",
    "    .merge(crashSeverityByGeo, on=\"GEONAME\") \\\n",
    "    .set_index([\"GEONAME\",\"CRASH_TYPE_CD\"])\n",
    "\n",
    "crashSeverityByCrashType[\"GEO_CRASHTYPE_SHARE_OF_FATAL\"] = crashSeverityByCrashType[\"GEO_CRASHTYPE_FATAL\"] / crashSeverityByCrashType[\"GEO_FATAL\"] \n",
    "crashSeverityByCrashType[\"GEO_CRASHTYPE_SHARE_OF_SERIOUS\"] = crashSeverityByCrashType[\"GEO_CRASHTYPE_SERIOUS\"] / crashSeverityByCrashType[\"GEO_SERIOUS\"] \n",
    "crashSeverityByCrashType[\"GEO_CRASHTYPE_SHARE_OF_TOTAL\"] = crashSeverityByCrashType[\"GEO_CRASHTYPE_TOTAL\"] / crashSeverityByCrashType[\"GEO_TOTAL\"] \n",
    "\n",
    "crashSeverityByCrashType = crashSeverityByCrashType.filter(items=[\n",
    "    'GEO_CRASHTYPE_FATAL', 'GEO_CRASHTYPE_SERIOUS', 'GEO_CRASHTYPE_MINOR', 'GEO_CRASHTYPE_POSSIBLE', 'GEO_CRASHTYPE_NOINJ', 'GEO_CRASHTYPE_TOTAL',\n",
    "    'GEO_CRASHTYPE_SHARE_OF_FATAL','GEO_CRASHTYPE_SHARE_OF_SERIOUS', 'GEO_CRASHTYPE_SHARE_OF_TOTAL'], axis=\"columns\")\n",
    "\n",
    "crashSeverityByCrashType.head()"
   ]
  },
  {
   "cell_type": "code",
   "execution_count": null,
   "id": "5fea8295-a445-4093-aa16-d1b9a1338f39",
   "metadata": {},
   "outputs": [],
   "source": [
    "crashSeverityByCrashType.describe()"
   ]
  },
  {
   "cell_type": "code",
   "execution_count": null,
   "id": "1b35f3a7-94ca-4722-b96b-5cee0c28fdd9",
   "metadata": {},
   "outputs": [],
   "source": [
    "crashSeverityByCrashType.loc[\"Region10\"] \\\n",
    "    .filter(items=['GEO_CRASHTYPE_SHARE_OF_FATAL','GEO_CRASHTYPE_SHARE_OF_SERIOUS','GEO_CRASHTYPE_SHARE_OF_TOTAL'], axis=\"columns\") \\\n",
    "    .sort_values(\"GEO_CRASHTYPE_SHARE_OF_FATAL\", ascending=False) \\\n",
    "    .plot.barh(color=['red','orange','grey'], figsize=(10,10))"
   ]
  },
  {
   "cell_type": "markdown",
   "id": "115b614f-5ee3-42d8-9de5-4fccf6a31fe0",
   "metadata": {},
   "source": [
    "### Create table of crash severity by year"
   ]
  },
  {
   "cell_type": "code",
   "execution_count": null,
   "id": "febcb2bc-3c74-4ace-bb8f-0d74b756ec4a",
   "metadata": {},
   "outputs": [],
   "source": [
    "crashSeverityByYear = crashSeverityByGeoByYear.copy()\n",
    "crashSeverityByYear[\"GEO_YEAR_FATAL_RATE\"] = crashSeverityByYear[\"GEO_YEAR_FATAL\"] / (crashSeverityByYear[\"GEO_YEAR_TOTAL\"] / 1000)\n",
    "crashSeverityByYear[\"GEO_YEAR_SERIOUS_RATE\"] = crashSeverityByYear[\"GEO_YEAR_SERIOUS\"] / (crashSeverityByYear[\"GEO_YEAR_TOTAL\"] / 1000)\n",
    "crashSeverityByYear.head()"
   ]
  },
  {
   "cell_type": "code",
   "execution_count": null,
   "id": "bb18d544-9919-4e82-9184-c007bc8c5922",
   "metadata": {},
   "outputs": [],
   "source": [
    "temp = crashSeverityByYear.loc[\"Region10\"].copy() \\\n",
    "    .reset_index() \\\n",
    "    .filter(items=[\"YEAR\",\"GEO_YEAR_TOTAL\",\"GEO_YEAR_FATAL_RATE\",\"GEO_YEAR_SERIOUS_RATE\"])\n",
    "fig, ax1 = plt.subplots(figsize=(10, 7))\n",
    "ax2 = ax1.twinx()\n",
    "ax1.bar(temp[\"YEAR\"], temp[\"GEO_YEAR_TOTAL\"], color=\"grey\", label=\"Total crashes\")\n",
    "ax2.plot(temp[\"YEAR\"], temp['GEO_YEAR_FATAL_RATE'], color=\"red\", label=\"Fatal crash rate\")\n",
    "ax2.plot(temp[\"YEAR\"], temp['GEO_YEAR_SERIOUS_RATE'], color=\"orange\", label=\"Serious injury crash rate\")\n",
    "yMax = temp[[\"GEO_YEAR_FATAL_RATE\",\"GEO_YEAR_SERIOUS_RATE\"]].max().max() * 1.1\n",
    "ax2.set_ylim(ymin=0, ymax=yMax)\n",
    "ax2.set_ylabel(\"Crash rate (per 1000 crashes)\")\n",
    "ax1.set_ylabel(\"Total crashes\")\n",
    "ax1Handles, ax1Labels = ax1.get_legend_handles_labels()\n",
    "ax2Handles, ax2Labels = ax2.get_legend_handles_labels()\n",
    "legend = fig.legend(ax1Handles+ax2Handles, ax1Labels+ax2Labels, loc='upper center', bbox_to_anchor=(0.5, 0.05), ncol=3)\n"
   ]
  },
  {
   "cell_type": "markdown",
   "id": "da01c6b6-abfb-4a31-9535-77bdeedd7416",
   "metadata": {},
   "source": [
    "### Create table of crash severity by mode"
   ]
  },
  {
   "cell_type": "code",
   "execution_count": null,
   "id": "e9a7e679-c283-4f52-8f22-e504a3d0360f",
   "metadata": {},
   "outputs": [],
   "source": [
    "crashSeverityByMode = crashes.copy()\n",
    "crashSeverityByMode[\"MODE\"] = \"Motor Vehicle\"\n",
    "crashSeverityByMode.loc[crashSeverityByMode[\"CRASH_TYPE_CD\"] == \"Pedalcycles\", \"MODE\"] = \"Pedalcycles\"\n",
    "crashSeverityByMode.loc[crashSeverityByMode[\"CRASH_TYPE_CD\"] == \"Pedestrian\", \"MODE\"] = \"Pedestrian\"\n",
    "\n",
    "crashSeverityByMode = crashSeverityByMode \\\n",
    "    .drop(columns=[\"YEAR\",\"CRASH_TYPE_CD\"]) \\\n",
    "    .groupby([\"GEONAME\",\"MODE\",\"SEVERITY_BY_TYPE_CD\"]).sum() \\\n",
    "    .reset_index() \\\n",
    "    .pivot(index=[\"GEONAME\",\"MODE\"], columns=\"SEVERITY_BY_TYPE_CD\", values=\"CRASHES\") \\\n",
    "    .rename(columns={\n",
    "        \"Fatal\":\"GEO_MODE_FATAL\",\n",
    "        \"Injury Possible\":\"GEO_MODE_POSSIBLE\",\n",
    "        \"Minor Injury Suspected\":\"GEO_MODE_MINOR\",\n",
    "        \"PDO/No Injury\":\"GEO_MODE_NOINJ\",\n",
    "        \"Serious Injury Suspected\":\"GEO_MODE_SERIOUS\"\n",
    "    }) \\\n",
    "    .fillna(0) \\\n",
    "    .astype(\"int\")\n",
    "\n",
    "crashSeverityByMode[\"GEO_MODE_TOTAL\"] = crashSeverityByMode.sum(axis=\"columns\")\n",
    "crashSeverityByMode.columns.name = None\n",
    "\n",
    "crashSeverityByMode = crashSeverityByMode.reset_index()                                                          \n",
    "\n",
    "crashSeverityByMode = crashSeverityByMode \\\n",
    "    .merge(crashSeverityByGeo, on=\"GEONAME\") \\\n",
    "    .set_index([\"GEONAME\",\"MODE\"])\n",
    "\n",
    "crashSeverityByMode.head()"
   ]
  },
  {
   "cell_type": "code",
   "execution_count": null,
   "id": "7ce723c4-37c3-451d-a01e-eea65761683a",
   "metadata": {
    "scrolled": true
   },
   "outputs": [],
   "source": [
    "crashSeverityByMode[\"GEO_MODE_FATAL_LIKELIHOOD\"] = crashSeverityByMode[\"GEO_MODE_FATAL\"] / crashSeverityByMode[\"GEO_MODE_TOTAL\"] \n",
    "crashSeverityByMode[\"GEO_MODE_SERIOUS_LIKELIHOOD\"] = crashSeverityByMode[\"GEO_MODE_SERIOUS\"] / crashSeverityByMode[\"GEO_MODE_TOTAL\"] \n",
    "crashSeverityByMode[\"GEO_MODE_FATALSERIOUS_LIKELIHOOD\"] = (crashSeverityByMode[\"GEO_MODE_FATAL\"] + crashSeverityByMode[\"GEO_MODE_SERIOUS\"]) / crashSeverityByMode[\"GEO_MODE_TOTAL\"]\n",
    "crashSeverityByMode[\"GEO_MODE_SHARE_OF_TOTAL\"] = crashSeverityByMode[\"GEO_MODE_TOTAL\"] / crashSeverityByMode[\"GEO_TOTAL\"]\n",
    "crashSeverityByMode.head()"
   ]
  },
  {
   "cell_type": "code",
   "execution_count": null,
   "id": "0bedde52-09f1-4a78-862e-ec34bb8eb5e7",
   "metadata": {},
   "outputs": [],
   "source": [
    "crashSeverityByMode.describe()"
   ]
  },
  {
   "cell_type": "code",
   "execution_count": null,
   "id": "25af263d-cba0-4a7d-86cb-9d9c146ca88e",
   "metadata": {},
   "outputs": [],
   "source": [
    "crashSeverityByMode.loc[\"Region10\"] \\\n",
    "    .reset_index() \\\n",
    "    .filter(items=['MODE','GEO_MODE_FATAL_LIKELIHOOD','GEO_MODE_SERIOUS_LIKELIHOOD','GEO_MODE_FATALSERIOUS_LIKELIHOOD','GEO_MODE_SHARE_OF_TOTAL'], axis=\"columns\") \\\n",
    "    .set_index(\"MODE\") \\\n",
    "    .plot.bar(color=[\"red\",\"orange\",\"orangered\",\"grey\"], figsize=(10,7))"
   ]
  },
  {
   "cell_type": "markdown",
   "id": "b845876e-aee4-4410-a205-c43379000d4e",
   "metadata": {},
   "source": [
    "## Export data and create resource files"
   ]
  },
  {
   "cell_type": "markdown",
   "id": "5287ae42-5600-41b8-892e-aae236dc8413",
   "metadata": {},
   "source": [
    "### Crash severity by crash type"
   ]
  },
  {
   "cell_type": "code",
   "execution_count": null,
   "id": "9c000152-0547-4b04-9ee7-7a0cc5604568",
   "metadata": {},
   "outputs": [],
   "source": [
    "outputCrashSeverityByCrashTypeSchema = morpc.frictionless_load_schema(OUTPUT_CRASH_SEVERITY_BY_TYPE_SCHEMA)"
   ]
  },
  {
   "cell_type": "code",
   "execution_count": null,
   "id": "523c9dcf-2508-4c9b-8997-fb2e90919ae5",
   "metadata": {},
   "outputs": [],
   "source": [
    "outputCrashSeverityByCrashType = crashSeverityByCrashType.copy() \\\n",
    "    .filter(items=[\"GEO_CRASHTYPE_SHARE_OF_FATAL\",\"GEO_CRASHTYPE_SHARE_OF_SERIOUS\",\"GEO_CRASHTYPE_SHARE_OF_TOTAL\"], axis=\"columns\") \\\n",
    "    .reset_index() \\\n",
    "    .melt(id_vars=[\"GEONAME\",\"CRASH_TYPE_CD\"], var_name=\"VARIABLE\", value_name=\"VALUE\")\n",
    "\n",
    "outputCrashSeverityByCrashType[\"GEONAME\"] = outputCrashSeverityByCrashType[\"GEONAME\"].apply(lambda name:(\"10-County Region\" if name==\"Region10\" else \"{} County\".format(name)))\n",
    "\n",
    "outputCrashSeverityByCrashType = morpc.cast_field_types(outputCrashSeverityByCrashType, outputCrashSeverityByCrashTypeSchema)\n",
    "\n",
    "outputCrashSeverityByCrashType.head()"
   ]
  },
  {
   "cell_type": "code",
   "execution_count": null,
   "id": "62ea1a78-64c4-439d-918b-fc54852a1cde",
   "metadata": {},
   "outputs": [],
   "source": [
    "outputCrashSeverityByCrashType.to_csv(OUTPUT_CRASH_SEVERITY_BY_TYPE_PATH, index=False)"
   ]
  },
  {
   "cell_type": "code",
   "execution_count": null,
   "id": "d396992b-b0fe-4ec9-8dc3-f8e71633c62d",
   "metadata": {
    "scrolled": true
   },
   "outputs": [],
   "source": [
    "outputCrashSeverityByCrashTypeResource = morpc.frictionless_create_resource(OUTPUT_CRASH_SEVERITY_BY_TYPE_FILENAME, \n",
    "    resourcePath=OUTPUT_CRASH_SEVERITY_BY_TYPE_RESOURCE,\n",
    "    title=\"MORPC Insights | Crash Severity by Crash Type\", \n",
    "    name=\"crashes_severity_by_type\", \n",
    "    description=\"Summary of vehicle crash severity by county by crash type for counties in the MORPC 10-county region. Variables include the share of total crashes, \\\n",
    "        accounted for by each type plus the share of fatal crashes and share of serious injury crashes.\",\n",
    "    writeResource=True,\n",
    "    validate=True\n",
    ")"
   ]
  },
  {
   "cell_type": "markdown",
   "id": "52008d81-ddf7-41de-bdcf-a31a2cbd507a",
   "metadata": {},
   "source": [
    "### Crash severity by year"
   ]
  },
  {
   "cell_type": "code",
   "execution_count": null,
   "id": "01604cfa-059f-4384-a8a6-ec01dc88a8f3",
   "metadata": {},
   "outputs": [],
   "source": [
    "outputCrashSeverityByYearSchema = morpc.frictionless_load_schema(OUTPUT_CRASH_SEVERITY_BY_YEAR_SCHEMA)"
   ]
  },
  {
   "cell_type": "code",
   "execution_count": null,
   "id": "51d0b934-d27c-4fc5-987b-8441ef030058",
   "metadata": {},
   "outputs": [],
   "source": [
    "outputCrashSeverityByYear = crashSeverityByYear.copy() \\\n",
    "    .filter(items=[\"GEO_YEAR_TOTAL\",\"GEO_YEAR_FATAL_RATE\",\"GEO_YEAR_SERIOUS_RATE\"], axis=\"columns\") \\\n",
    "    .reset_index() \\\n",
    "    .melt(id_vars=[\"GEONAME\",\"YEAR\"], var_name=\"VARIABLE\", value_name=\"VALUE\")\n",
    "\n",
    "outputCrashSeverityByYear[\"GEONAME\"] = outputCrashSeverityByYear[\"GEONAME\"].apply(lambda name:(\"10-County Region\" if name==\"Region10\" else \"{} County\".format(name)))\n",
    "\n",
    "outputCrashSeverityByYear = morpc.cast_field_types(outputCrashSeverityByYear, outputCrashSeverityByYearSchema)\n",
    "\n",
    "outputCrashSeverityByYear.head()"
   ]
  },
  {
   "cell_type": "code",
   "execution_count": null,
   "id": "978414e0-cef7-409d-8693-81f5f0a7619d",
   "metadata": {},
   "outputs": [],
   "source": [
    "outputCrashSeverityByYear.to_csv(OUTPUT_CRASH_SEVERITY_BY_YEAR_PATH, index=False)"
   ]
  },
  {
   "cell_type": "code",
   "execution_count": null,
   "id": "09b837b3-810e-4b1a-bf2d-9c86f2bbd9bd",
   "metadata": {
    "scrolled": true
   },
   "outputs": [],
   "source": [
    "outputCrashSeverityByYearResource = morpc.frictionless_create_resource(OUTPUT_CRASH_SEVERITY_BY_YEAR_FILENAME, \n",
    "    resourcePath=OUTPUT_CRASH_SEVERITY_BY_YEAR_RESOURCE,\n",
    "    title=\"MORPC Insights | Crash Severity by Year\", \n",
    "    name=\"crashes_severity_by_year\", \n",
    "    description=\"Summary of vehicle crash severity by county by year for counties in the MORPC 10-county region. Variables include the total number of crashes, \\\n",
    "        the rate of fatal crashes per 1000 crashes, and the rate of serious injury crashes per 1000 crashes.\",\n",
    "    writeResource=True,\n",
    "    validate=True\n",
    ")"
   ]
  },
  {
   "cell_type": "markdown",
   "id": "9cd53d3d-6e55-4148-9f91-23006cc76fa4",
   "metadata": {},
   "source": [
    "### Crash severity by mode"
   ]
  },
  {
   "cell_type": "code",
   "execution_count": null,
   "id": "d01dd2ac-dbd9-4cd4-b42c-cc3edb92b5c3",
   "metadata": {},
   "outputs": [],
   "source": [
    "crashSeverityByMode.head()"
   ]
  },
  {
   "cell_type": "code",
   "execution_count": null,
   "id": "5edacd3e-786d-41af-a073-77dcca948406",
   "metadata": {},
   "outputs": [],
   "source": [
    "outputCrashSeverityByModeSchema = morpc.frictionless_load_schema(OUTPUT_CRASH_SEVERITY_BY_MODE_SCHEMA)"
   ]
  },
  {
   "cell_type": "code",
   "execution_count": null,
   "id": "5328f162-3b09-49e6-9275-f84981eebc01",
   "metadata": {},
   "outputs": [],
   "source": [
    "outputCrashSeverityByMode = crashSeverityByMode.copy() \\\n",
    "    .filter(items=[\"GEO_MODE_FATAL_LIKELIHOOD\",\"GEO_MODE_SERIOUS_LIKELIHOOD\", \"GEO_MODE_FATALSERIOUS_LIKELIHOOD\", \"GEO_MODE_SHARE_OF_TOTAL\"], axis=\"columns\") \\\n",
    "    .reset_index() \\\n",
    "    .melt(id_vars=[\"GEONAME\",\"MODE\"], var_name=\"VARIABLE\", value_name=\"VALUE\")\n",
    "\n",
    "outputCrashSeverityByMode[\"GEONAME\"] = outputCrashSeverityByMode[\"GEONAME\"].apply(lambda name:(\"10-County Region\" if name==\"Region10\" else \"{} County\".format(name)))\n",
    "\n",
    "outputCrashSeverityByMode.head()"
   ]
  },
  {
   "cell_type": "code",
   "execution_count": null,
   "id": "04e9e44e-1576-4b62-aab2-c2aee0f643fc",
   "metadata": {},
   "outputs": [],
   "source": [
    "outputCrashSeverityByMode.to_csv(OUTPUT_CRASH_SEVERITY_BY_MODE_PATH, index=False)"
   ]
  },
  {
   "cell_type": "code",
   "execution_count": null,
   "id": "9c985c49-9ffa-43f1-8f4d-b5e18c9c9ccc",
   "metadata": {
    "scrolled": true
   },
   "outputs": [],
   "source": [
    "outputCrashSeverityByModeResource = morpc.frictionless_create_resource(OUTPUT_CRASH_SEVERITY_BY_MODE_FILENAME, \n",
    "    resourcePath=OUTPUT_CRASH_SEVERITY_BY_MODE_RESOURCE,\n",
    "    title=\"MORPC Insights | Crash Severity by Mode\", \n",
    "    name=\"crashes_severity_by_mode\", \n",
    "    description=\"Summary of vehicle crash severity by county by mode for counties in the MORPC 10-county region. Variables include the likelihood of a fatal crash, \\\n",
    "        likelihood of a serious injury crash, combined likelihood of a fatal or serious injury crash, and the share of total crashes that is accounted for by the mode.\",\n",
    "    writeResource=True,\n",
    "    validate=True\n",
    ")"
   ]
  },
  {
   "cell_type": "markdown",
   "id": "f9168648-3b4f-48b8-8e06-06f6b3b4ce49",
   "metadata": {},
   "source": [
    "## Generate static charts"
   ]
  },
  {
   "cell_type": "code",
   "execution_count": null,
   "id": "44d354a1-1fab-4fac-af54-fa42fe3e702e",
   "metadata": {},
   "outputs": [],
   "source": [
    "for f in os.scandir(chartDir):\n",
    "    os.remove(f)"
   ]
  },
  {
   "cell_type": "markdown",
   "id": "3b776eea-128b-4d2a-a97c-d7f2c272c577",
   "metadata": {},
   "source": [
    "### Crash severity by crash type"
   ]
  },
  {
   "cell_type": "code",
   "execution_count": null,
   "id": "748a1925-ae60-493c-90e6-87a5e17d9a67",
   "metadata": {
    "tags": []
   },
   "outputs": [],
   "source": [
    "%matplotlib agg\n",
    "\n",
    "colorset = ['#cc1414', '#f7b602', '#a8a8a8']\n",
    "    \n",
    "# Iterate over each geography in data set\n",
    "for geoName in SELECTED_GEOS:   \n",
    "\n",
    "    # Extract the data for a single geography\n",
    "    geoLabel = (\"10-County Region\" if geoName == \"Region10\" else \"{} County\".format(geoName))\n",
    "\n",
    "    # Extract the data for the geography and the columns required to be displayed on the chart. Sort the data\n",
    "    # such that the crash types are ordered by share of fatal crashes\n",
    "    temp = crashSeverityByCrashType.loc[geoName].copy() \\\n",
    "        .filter(items=['GEO_CRASHTYPE_SHARE_OF_FATAL','GEO_CRASHTYPE_SHARE_OF_SERIOUS','GEO_CRASHTYPE_SHARE_OF_TOTAL'], axis=\"columns\") \\\n",
    "        .rename(columns={\n",
    "            'GEO_CRASHTYPE_SHARE_OF_FATAL':\"Share of fatal crashes\",\n",
    "            'GEO_CRASHTYPE_SHARE_OF_SERIOUS':\"Share of serious injury crashes\",\n",
    "            'GEO_CRASHTYPE_SHARE_OF_TOTAL':\"Share of all crashes\"\n",
    "        }) \\\n",
    "        .sort_values(\"Share of fatal crashes\", ascending=False)\n",
    "\n",
    "    # Convert the share ratio into a percentage\n",
    "    for column in ['Share of fatal crashes','Share of serious injury crashes','Share of all crashes']:     \n",
    "        temp[column] = temp[column] * 100\n",
    "\n",
    "    # Generate a title string\n",
    "    title = \"Crash Severity by Type of Crash - {}\".format(geoLabel)\n",
    "    ylabel = \"Percent of crashes\"\n",
    "    xlabel = None\n",
    "    yLim = 1.1 * temp[['Share of fatal crashes','Share of serious injury crashes','Share of all crashes']].max().max()\n",
    "      \n",
    "    # Create and annotate the plot\n",
    "    PLOTWIDTH = 8\n",
    "    fig,ax = plt.subplots(figsize=(PLOTWIDTH,PLOTWIDTH/16*9))\n",
    "\n",
    "    temp.plot.bar(ax=ax, color=colorset, width=0.8)\n",
    "\n",
    "    ax.set_title(title, fontsize=14)\n",
    "    ax.set_xlabel(xlabel)\n",
    "    ax.set_ylabel(ylabel)\n",
    "    ax.set_ylim(ymin=0, ymax=yLim)\n",
    "    ax.set_yticks([round(tick,0) for tick in ax.get_yticks()])\n",
    "    labels = [textwrap.fill(label, 15) for label in labels]\n",
    "    legend = ax.legend(handles[::-1], labels[::-1], loc='upper right', labelspacing=1)\n",
    "    ax.grid(visible=True, color=\"lightgrey\", axis=\"y\")\n",
    "    ax.set_axisbelow(True)\n",
    "       \n",
    "    # Save the figure to disk as an SVG file\n",
    "    ax.figure.savefig(os.path.join(chartDir, \"crashSeverityByType-{}.svg\".format(geoName)), bbox_extra_artists=(legend,), bbox_inches='tight')\n",
    "    \n",
    "    plt.close(ax.figure)\n",
    "\n",
    "    writer = pd.ExcelWriter(os.path.join(chartDir, \"crashSeverityByType-{}.xlsx\".format(geoName)), engine='xlsxwriter')\n",
    "    dataOptions = {\n",
    "        \"numberFormat\": {\n",
    "            'CRASH_TYPE_CD': \"\",\n",
    "            'Share of fatal crashes': \"0\",\n",
    "            'Share of serious injury crashes': \"0\",\n",
    "            'Share of all crashes': \"0\",\n",
    "        },\n",
    "        \"columnWidth\": 32\n",
    "    }\n",
    "    chartOptions = {\n",
    "        \"colors\": colorset,\n",
    "        \"titles\": {\n",
    "            \"chartTitle\": title,\n",
    "            \"xTitle\": xlabel,\n",
    "            \"yTitle\": ylabel\n",
    "        },\n",
    "        \"xAxisOptions\": {\n",
    "            \"num_font\": {\"size\":12},\n",
    "        },\n",
    "        \"yAxisOptions\": {\n",
    "            \"num_font\": {\"size\":14},\n",
    "            \"num_format\": \"0\",\n",
    "            \"name_font\": {\"size\":14}\n",
    "        },\n",
    "        \"legendOptions\":{\n",
    "            \"position\":\"bottom\",\n",
    "            \"font\":{\"size\":14}\n",
    "        },\n",
    "        \"sizeOptions\":{\n",
    "            \"x_scale\":1.5,\n",
    "            \"y_scale\":2\n",
    "        }\n",
    "    }\n",
    "    morpc.data_chart_to_excel(temp, writer, chartType=\"column\", dataOptions=dataOptions, chartOptions=chartOptions)\n",
    "    writer.close()    \n",
    "    \n",
    "%matplotlib inline"
   ]
  },
  {
   "cell_type": "markdown",
   "id": "83dbea8d-33c8-44d8-8740-0bcb51d40a71",
   "metadata": {},
   "source": [
    "### Crash severity by year"
   ]
  },
  {
   "cell_type": "code",
   "execution_count": null,
   "id": "9708db95-4c7e-4e23-b04c-a381f731a4e0",
   "metadata": {
    "tags": []
   },
   "outputs": [],
   "source": [
    "%matplotlib agg\n",
    "\n",
    "colorset = ['#cc1414', '#f7b602', '#a8a8a8']\n",
    "   \n",
    "# Iterate over each geography in data set\n",
    "for geoName in SELECTED_GEOS:   \n",
    "\n",
    "    # Extract the data for a single geography\n",
    "    geoLabel = (\"10-County Region\" if geoName == \"Region10\" else \"{} County\".format(geoName))\n",
    "\n",
    "    # Extract the data for the geography and the columns required to be displayed on the chart.\n",
    "    temp = crashSeverityByYear.loc[geoName].copy() \\\n",
    "        .reset_index() \\\n",
    "        .filter(items=[\"YEAR\",\"GEO_YEAR_TOTAL\",\"GEO_YEAR_FATAL_RATE\",\"GEO_YEAR_SERIOUS_RATE\"]) \\\n",
    "        .rename(columns={\n",
    "            \"GEO_YEAR_TOTAL\":\"Total crashes\",\n",
    "            \"GEO_YEAR_FATAL_RATE\":\"Fatal crash rate\",\n",
    "            \"GEO_YEAR_SERIOUS_RATE\":\"Serious injury crash rate\"\n",
    "        })\n",
    "\n",
    "    # Generate a title string\n",
    "    title = \"Crash Severity by Year - {}\".format(geoLabel)\n",
    "    yMax = temp[[\"Fatal crash rate\",\"Serious injury crash rate\"]].max().max() * 1.1\n",
    "\n",
    "    lineWidth = 3\n",
    "    markerSize = 7\n",
    "\n",
    "    # Create and annotate the plot\n",
    "    PLOTWIDTH = 8\n",
    "    fig,ax1 = plt.subplots(figsize=(PLOTWIDTH,PLOTWIDTH/16*9))\n",
    "    ax2 = ax1.twinx()\n",
    "    ax1.bar(temp[\"YEAR\"], temp[\"Total crashes\"], label=\"Total crashes\", color=colorset[2])\n",
    "    ax2.plot(temp[\"YEAR\"], temp['Fatal crash rate'], label=\"Fatal crash rate\", color=colorset[0], linewidth=lineWidth, marker='o', markersize=markerSize)\n",
    "    ax2.plot(temp[\"YEAR\"], temp['Serious injury crash rate'], label=\"Serious injury crash rate\", color=colorset[1], linewidth=lineWidth, marker='o', markersize=markerSize)\n",
    "    ax2.set_ylim(ymin=0, ymax=yMax)\n",
    "    ax2.set_ylabel(\"Crash rate (per 1000 crashes)\")\n",
    "    ax1.set_ylabel(\"Total crashes\")\n",
    "    ax1Handles, ax1Labels = ax1.get_legend_handles_labels()\n",
    "    ax2Handles, ax2Labels = ax2.get_legend_handles_labels()\n",
    "    legend = fig.legend(ax1Handles+ax2Handles, ax1Labels+ax2Labels, loc='upper center', bbox_to_anchor=(0.5, 0.05), ncol=3)\n",
    "    ax1.set_title(title, fontsize=14)\n",
    "    ax1.set_axisbelow(True)\n",
    "    ax1.get_yaxis().set_major_formatter(matplotlib.ticker.FuncFormatter(lambda x, p: format(int(x), ',')))\n",
    "       \n",
    "    # Save the figure to disk as an SVG file\n",
    "    ax1.figure.savefig(os.path.join(chartDir, \"crashSeverityByYear-{}.svg\".format(geoName)), bbox_extra_artists=(legend,), bbox_inches='tight')\n",
    "    \n",
    "    plt.close(ax1.figure)\n",
    "\n",
    "%matplotlib inline"
   ]
  },
  {
   "cell_type": "raw",
   "id": "f66e2989-a6f7-4804-9fb1-13baeb6b6e9d",
   "metadata": {
    "tags": []
   },
   "source": [
    "    writer = pd.ExcelWriter(os.path.join(chartDir, \"crashSeverityByType-{}.xlsx\".format(geoName)), engine='xlsxwriter')\n",
    "    dataOptions = {\n",
    "        \"numberFormat\": {\n",
    "            'YEAR': \"0\",\n",
    "            'Fatal crash rate': \"0\",\n",
    "            'Serious injury crash rate': \"0\",\n",
    "            'Total crashes': \"#,##0\",\n",
    "        },\n",
    "        \"columnWidth\": 30\n",
    "    }\n",
    "    chartOptions = {\n",
    "        \"colors\": {\n",
    "            'Fatal crash rate': colorset[0],\n",
    "            'Serious injury crash rate': colorset[1],\n",
    "            'Total crashes': colorset[2],\n",
    "        },\n",
    "        \"titles\": {\n",
    "            \"chartTitle\": title,\n",
    "            \"xTitle\": xlabel,\n",
    "            \"yTitle\": ylabel\n",
    "        },\n",
    "        \"xAxisOptions\": {\n",
    "            \"num_font\": {\"size\":12},\n",
    "        },\n",
    "        \"yAxisOptions\": {\n",
    "            \"num_font\": {\"size\":14},\n",
    "            \"num_format\": \"0\",\n",
    "            \"name_font\": {\"size\":14}\n",
    "        },\n",
    "        \"legendOptions\":{\n",
    "            \"position\":\"bottom\",\n",
    "            \"font\":{\"size\":14}\n",
    "        },\n",
    "        \"sizeOptions\":{\n",
    "            \"x_scale\":1.5,\n",
    "            \"y_scale\":1.5\n",
    "        }\n",
    "    }\n",
    "    morpc.data_chart_to_excel(temp, writer, chartType=\"column\", dataOptions=dataOptions, chartOptions=chartOptions)\n",
    "    writer.close()    \n",
    "    \n",
    "%matplotlib inline"
   ]
  },
  {
   "cell_type": "markdown",
   "id": "d37c5a46-0c5c-4d55-afa7-c20b83548e87",
   "metadata": {},
   "source": [
    "### Crash severity by mode"
   ]
  },
  {
   "cell_type": "code",
   "execution_count": null,
   "id": "adca0d8b-428b-4873-a030-e60309c77c3f",
   "metadata": {
    "tags": []
   },
   "outputs": [],
   "source": [
    "%matplotlib agg\n",
    "\n",
    "colorset = ['#cc1414', '#f7b602', \"#508efa\", '#a8a8a8']\n",
    "    \n",
    "# Iterate over each geography in data set\n",
    "for geoName in SELECTED_GEOS:   \n",
    "\n",
    "    # Extract the data for a single geography\n",
    "    geoLabel = (\"10-County Region\" if geoName == \"Region10\" else \"{} County\".format(geoName))\n",
    "\n",
    "    # Extract the data for the geography and the columns required to be displayed on the chart. Sort the data\n",
    "    # such that the crash types are ordered by share of fatal crashes\n",
    "    temp = crashSeverityByMode.loc[geoName] \\\n",
    "        .reset_index() \\\n",
    "        .filter(items=['MODE','GEO_MODE_FATAL_LIKELIHOOD','GEO_MODE_SERIOUS_LIKELIHOOD','GEO_MODE_FATALSERIOUS_LIKELIHOOD','GEO_MODE_SHARE_OF_TOTAL'], axis=\"columns\") \\\n",
    "        .rename(columns={\n",
    "            'GEO_MODE_FATAL_LIKELIHOOD':\"Percent of crashes resulting in fatality\",\n",
    "            'GEO_MODE_SERIOUS_LIKELIHOOD':\"Percent of crashes resulting in serious injury\",\n",
    "            'GEO_MODE_FATALSERIOUS_LIKELIHOOD':\"Percent of crashes resulting in serious injury or fatality\",\n",
    "            'GEO_MODE_SHARE_OF_TOTAL':\"Share of all crashes\"\n",
    "        }) \\\n",
    "        .set_index(\"MODE\")\n",
    "\n",
    "    # Convert the share ratio into a percentage\n",
    "    for column in ['Percent of crashes resulting in fatality','Percent of crashes resulting in serious injury','Percent of crashes resulting in serious injury or fatality','Share of all crashes']:     \n",
    "        temp[column] = temp[column] * 100\n",
    "\n",
    "    # Generate a title string\n",
    "    title = \"Crash Severity by Mode of Transportation - {}\".format(geoLabel)\n",
    "    ylabel = \"Percent of crashes\"\n",
    "    xlabel = None\n",
    "    #yLim = 1.1 * temp[['Percent of crashes resulting in fatality','Percent of crashes resulting in serious injury','Percent of crashes resulting in serious injury or fatality','Share of all crashes']].max().max()\n",
    "    yLim = 100\n",
    "\n",
    "    # Create and annotate the plot\n",
    "    PLOTWIDTH = 8\n",
    "    fig,ax = plt.subplots(figsize=(PLOTWIDTH,PLOTWIDTH/16*9))\n",
    "\n",
    "    temp.plot.bar(ax=ax, color=colorset)\n",
    "\n",
    "    ax.set_title(title, fontsize=14)\n",
    "    ax.set_xlabel(xlabel)\n",
    "    ax.set_ylabel(ylabel)\n",
    "    ax.set_ylim(ymin=0, ymax=yLim)\n",
    "    ax.set_yticks([round(tick,0) for tick in ax.get_yticks()])\n",
    "    labels = [textwrap.fill(label, 15) for label in labels]\n",
    "    legend = ax.legend(handles[::-1], labels[::-1], loc='upper right', labelspacing=1)\n",
    "    ax.grid(visible=True, color=\"lightgrey\", axis=\"y\")\n",
    "    ax.set_axisbelow(True)\n",
    "       \n",
    "    # Save the figure to disk as an SVG file\n",
    "    ax.figure.savefig(os.path.join(chartDir, \"crashSeverityByMode-{}.svg\".format(geoName)), bbox_extra_artists=(legend,), bbox_inches='tight')\n",
    "    \n",
    "    plt.close(ax.figure)\n",
    "\n",
    "%matplotlib inline"
   ]
  },
  {
   "cell_type": "raw",
   "id": "6494aac8-4470-4102-b38c-70f211e6b981",
   "metadata": {
    "tags": []
   },
   "source": [
    "    writer = pd.ExcelWriter(os.path.join(chartDir, \"crashSeverityByType-{}.xlsx\".format(geoName)), engine='xlsxwriter')\n",
    "    dataOptions = {\n",
    "        \"numberFormat\": {\n",
    "            'CRASH_TYPE_CD': \"\",\n",
    "            'Share of fatal crashes': \"0\",\n",
    "            'Share of serious injury crashes': \"0\",\n",
    "            'Share of all crashes': \"0\",\n",
    "        },\n",
    "        \"columnWidth\": 32\n",
    "    }\n",
    "    chartOptions = {\n",
    "        \"colors\": colorset,\n",
    "        \"titles\": {\n",
    "            \"chartTitle\": title,\n",
    "            \"xTitle\": xlabel,\n",
    "            \"yTitle\": ylabel\n",
    "        },\n",
    "        \"xAxisOptions\": {\n",
    "            \"num_font\": {\"size\":12},\n",
    "        },\n",
    "        \"yAxisOptions\": {\n",
    "            \"num_font\": {\"size\":14},\n",
    "            \"num_format\": \"0\",\n",
    "            \"name_font\": {\"size\":14}\n",
    "        },\n",
    "        \"legendOptions\":{\n",
    "            \"position\":\"bottom\",\n",
    "            \"font\":{\"size\":14}\n",
    "        },\n",
    "        \"sizeOptions\":{\n",
    "            \"x_scale\":1.5,\n",
    "            \"y_scale\":2\n",
    "        }\n",
    "    }\n",
    "    morpc.data_chart_to_excel(temp, writer, chartType=\"column\", dataOptions=dataOptions, chartOptions=chartOptions)\n",
    "    writer.close()    \n",
    "    \n",
    "%matplotlib inline"
   ]
  },
  {
   "cell_type": "markdown",
   "id": "07b0555f-a99e-4297-8623-0aa3de7122df",
   "metadata": {},
   "source": [
    "## Generate Insights catalog content"
   ]
  },
  {
   "cell_type": "markdown",
   "id": "abea4018-3b07-4999-b98b-2edbe1e29238",
   "metadata": {},
   "source": [
    "The content in the Insights platform is controlled by a catalog spreadsheet. Each tile to be displayed in the platform must have a record in the catalog.  This section will create the records for the tiles that display the alternative fuel station data.  Eventually this function will be performed by a separate staging script."
   ]
  },
  {
   "cell_type": "markdown",
   "id": "75c5632a-9833-48ed-96d1-d9a35a4ad7ba",
   "metadata": {},
   "source": [
    "First specify the column names used in the catalog."
   ]
  },
  {
   "cell_type": "code",
   "execution_count": null,
   "id": "43882b7e-d411-4830-b4d2-7698fdd8c4f2",
   "metadata": {},
   "outputs": [],
   "source": [
    "columnNames=[\"TileID\",\"TilesetID\",\"Priority\",\"GeoType\",\"GeoName\",\"Category\",\"Headline\",\"Commentary\",\"ThumbnailURL\",\"Contributor\",\"Vintage\",\"UpdateInterval\",\"ShareURL\",\"DataProductURL\",\"MoreContextURL\",\"TechDetailsURL\"]"
   ]
  },
  {
   "cell_type": "markdown",
   "id": "32ecd541-9b63-492f-8450-3b4b120b199b",
   "metadata": {},
   "source": [
    "Create a new dataframe containing only the geographies for which thumbnail images were produced in the section above."
   ]
  },
  {
   "cell_type": "code",
   "execution_count": null,
   "id": "eacdf0ef-e819-450e-9ea1-b454bfc7b431",
   "metadata": {},
   "outputs": [],
   "source": [
    "catalog = pd.DataFrame(index=SELECTED_GEOS, columns=columnNames)\n",
    "catalog.index.name = \"geoLabel\"\n",
    "catalog = catalog.reset_index()"
   ]
  },
  {
   "cell_type": "markdown",
   "id": "1ec30628-071c-48c1-adef-057000053de9",
   "metadata": {},
   "source": [
    "Convert the shortened geography labels to longer, more human-readable names."
   ]
  },
  {
   "cell_type": "code",
   "execution_count": null,
   "id": "bf7c70a0-8419-4d37-be61-15d5206f53f4",
   "metadata": {},
   "outputs": [],
   "source": [
    "catalog[\"GeoName\"] = catalog[\"geoLabel\"].apply(lambda x:(\"10-County Region\" if x == \"Region10\" else \"{} County\".format(x)))"
   ]
  },
  {
   "cell_type": "markdown",
   "id": "4fe8086d-0802-499a-a1c9-c326896a19a3",
   "metadata": {},
   "source": [
    "Add the appropriate GeographyType values."
   ]
  },
  {
   "cell_type": "code",
   "execution_count": null,
   "id": "e34adc15-65c5-47ab-879a-d71e0d3d5b76",
   "metadata": {},
   "outputs": [],
   "source": [
    "catalog[\"GeoType\"] = catalog[\"geoLabel\"].apply(lambda x:(\"Region\" if x == \"Region10\" else \"County\"))"
   ]
  },
  {
   "cell_type": "markdown",
   "id": "227a2d03-2f1e-413b-9bdb-a9bd2ff18c80",
   "metadata": {},
   "source": [
    "Populate some placeholder fields."
   ]
  },
  {
   "cell_type": "code",
   "execution_count": null,
   "id": "26cf5684-e5b4-4862-bc8c-80a354dc8545",
   "metadata": {},
   "outputs": [],
   "source": [
    "catalog[\"TileID\"] = None\n",
    "catalog[\"TilesetID\"] = \"TBD-crashSeverityByType\"\n",
    "catalog[\"Priority\"] = None\n",
    "catalog[\"Category\"] = None\n",
    "catalog[\"Headline\"] = \"TBD\"\n",
    "catalog[\"Commentary\"] = \"TBD\""
   ]
  },
  {
   "cell_type": "markdown",
   "id": "e6cf4729-9ad8-466f-b208-515bdbf0f612",
   "metadata": {},
   "source": [
    "Generate the URL for the thumbnail images. These will be hosted in GitHub and will be indexed by GEOIDFQ."
   ]
  },
  {
   "cell_type": "code",
   "execution_count": null,
   "id": "d5236da5-8d79-426a-bcd7-09cbcdc87402",
   "metadata": {},
   "outputs": [],
   "source": [
    "catalog[\"ThumbnailURL\"] = catalog[\"geoLabel\"].apply(lambda name:\"https://raw.githubusercontent.com/morpc-insights/insights-crashes/refs/heads/main/output_data/charts/crashSeverityByType-Delaware.svg\".format(name))"
   ]
  },
  {
   "cell_type": "markdown",
   "id": "36ba2c86-62e7-4b72-966d-b79f09e72c30",
   "metadata": {},
   "source": [
    "Populate some other simple metadata.  Vintage in this case refers to the year that the content was published in Insights. This is to give readers an idea of how old it is.  UpdateInterval gives them an idea of when to expect the next version. ShareURL is a placeholder for now."
   ]
  },
  {
   "cell_type": "code",
   "execution_count": null,
   "id": "1f2a090b-60b6-4377-b6be-ad01394f326e",
   "metadata": {},
   "outputs": [],
   "source": [
    "catalog[\"Contributor\"] = \"Mid-Ohio Regional Planning Commission\"\n",
    "catalog[\"Vintage\"] = str(datetime.date.today().year)\n",
    "catalog[\"UpdateInterval\"] = \"annually\"\n",
    "catalog[\"ShareURL\"] = None\n",
    "catalog[\"DataProductURL\"] = \"https://www.arcgis.com/apps/dashboards/025b75f3490b4e79ae764e2c27c09a06\""
   ]
  },
  {
   "cell_type": "markdown",
   "id": "063149cc-624c-4e9b-8116-7e0cfd4fd07a",
   "metadata": {},
   "source": [
    "Generate the URLs that point to the fact sheet."
   ]
  },
  {
   "cell_type": "code",
   "execution_count": null,
   "id": "c8199fc3-2fe8-4079-9c14-90a2280ed077",
   "metadata": {},
   "outputs": [],
   "source": [
    "catalog[\"MoreContextURL\"] = \"https://morpc1-my.sharepoint.com/:w:/g/personal/aporr_morpc_org/EdF9OgInIZdOk9Sz3aJSVT8BPvXp4N495QUN2PvK5NBBjQ?e=b30KGA\""
   ]
  },
  {
   "cell_type": "markdown",
   "id": "ea1a9604-2abd-4804-b581-ea455bd874dc",
   "metadata": {},
   "source": [
    "Generate the URLs that point to the data kit."
   ]
  },
  {
   "cell_type": "code",
   "execution_count": null,
   "id": "4aeac1c8-8583-4d29-8b58-8040a47f0374",
   "metadata": {},
   "outputs": [],
   "source": [
    "catalog[\"TechDetailsURL\"] = \"https://github.com/morpc-insights/insights-crashes\""
   ]
  },
  {
   "cell_type": "markdown",
   "id": "6b61a857-dab2-49ba-8610-1e10715f69f5",
   "metadata": {},
   "source": [
    "Extract only the required columns."
   ]
  },
  {
   "cell_type": "code",
   "execution_count": null,
   "id": "834b3dc3-5da2-4d87-b5a1-0e224099328d",
   "metadata": {},
   "outputs": [],
   "source": [
    "catalog = catalog.filter(items=columnNames, axis=\"columns\")"
   ]
  },
  {
   "cell_type": "markdown",
   "id": "ac478240-bf5c-442f-90ad-f110f4046033",
   "metadata": {},
   "source": [
    "Inspect the listing."
   ]
  },
  {
   "cell_type": "code",
   "execution_count": null,
   "id": "173c04f6-0a80-477c-994e-c717608aa51e",
   "metadata": {},
   "outputs": [],
   "source": [
    "catalog.head()"
   ]
  },
  {
   "cell_type": "markdown",
   "id": "e00773ca-5d1b-4621-b955-b9d505c1da57",
   "metadata": {},
   "source": [
    "Add records for the crash severity by year tileset, which are identical to the crash severity by type tileset but have different thumbnail URLs and data product URLs."
   ]
  },
  {
   "cell_type": "code",
   "execution_count": null,
   "id": "680cd076-3ec7-416f-9ae2-5eee1fa7a8cc",
   "metadata": {},
   "outputs": [],
   "source": [
    "template = catalog.copy()\n",
    "temp = template.copy()\n",
    "temp[\"ThumbnailURL\"] = temp[\"ThumbnailURL\"].str.replace(\"crashSeverityByType-\", \"crashSeverityByYear-\")\n",
    "temp[\"TilesetID\"] = temp[\"TilesetID\"].str.replace(\"crashSeverityByType\", \"crashSeverityByYear\")\n",
    "temp[\"DataProductURL\"] = temp[\"DataProductURL\"].str.replace(\"https://www.arcgis.com/apps/dashboards/025b75f3490b4e79ae764e2c27c09a06\",\"https://www.arcgis.com/apps/dashboards/d1bb7ef5468f495788703352b1c5f896\")\n",
    "catalog = pd.concat([catalog, temp], axis=\"index\")"
   ]
  },
  {
   "cell_type": "markdown",
   "id": "908f85f7-5642-4dec-a9c0-9187ad8dbc6e",
   "metadata": {},
   "source": [
    "Add records for the crash severity by mode tileset, which are identical to the crash severity by type tileset but have different thumbnail URLs and data product URLs."
   ]
  },
  {
   "cell_type": "code",
   "execution_count": null,
   "id": "d5786fb5-899e-4a21-a5e2-922b2cc6ec76",
   "metadata": {},
   "outputs": [],
   "source": [
    "temp = template.copy()\n",
    "temp[\"ThumbnailURL\"] = temp[\"ThumbnailURL\"].str.replace(\"crashSeverityByType-\", \"crashSeverityByMode-\")\n",
    "temp[\"TilesetID\"] = temp[\"TilesetID\"].str.replace(\"crashSeverityByType\", \"crashSeverityByMode\")\n",
    "temp[\"DataProductURL\"] = temp[\"DataProductURL\"].str.replace(\"https://www.arcgis.com/apps/dashboards/025b75f3490b4e79ae764e2c27c09a06\",\"https://www.arcgis.com/apps/dashboards/2d3cc0a173d949f0a1a39146b37e1831\")\n",
    "catalog = pd.concat([catalog, temp], axis=\"index\")"
   ]
  },
  {
   "cell_type": "markdown",
   "id": "a9c3080e-e890-46dc-8e7e-31523f4d6d9d",
   "metadata": {},
   "source": [
    "Save the catalog to an Excel spreadsheet."
   ]
  },
  {
   "cell_type": "code",
   "execution_count": null,
   "id": "d1490183-185f-48c8-b7d2-497c0f265613",
   "metadata": {},
   "outputs": [],
   "source": [
    "catalog.to_excel(\"catalog.xlsx\", index=False)"
   ]
  },
  {
   "cell_type": "markdown",
   "id": "71d6a808-be92-4ef6-8ee7-f341d115e974",
   "metadata": {},
   "source": [
    "It is necessary to manually add these records to the master catalog or update the records already therein.  See the following file in GitHub:\n",
    "\n",
    "https://github.com/morpc/morpc-insights/blob/main/catalog/morpc_insights_catalog.xlsx\n"
   ]
  }
 ],
 "metadata": {
  "kernelspec": {
   "display_name": "Python 3 (ipykernel)",
   "language": "python",
   "name": "python3"
  },
  "language_info": {
   "codemirror_mode": {
    "name": "ipython",
    "version": 3
   },
   "file_extension": ".py",
   "mimetype": "text/x-python",
   "name": "python",
   "nbconvert_exporter": "python",
   "pygments_lexer": "ipython3",
   "version": "3.12.3"
  }
 },
 "nbformat": 4,
 "nbformat_minor": 5
}
